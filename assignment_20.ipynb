{
 "cells": [
  {
   "cell_type": "code",
   "execution_count": 2,
   "metadata": {},
   "outputs": [
    {
     "name": "stdout",
     "output_type": "stream",
     "text": [
      "Addition: 13\n",
      "Subtraction: 7\n",
      "Multiplication: 30\n",
      "Division: 3.3333333333333335\n",
      "Modulus: 1\n",
      "Exponentiation: 1000\n",
      "Floor Division: 3\n"
     ]
    }
   ],
   "source": [
    "# QUESTION NUMBER 1\n",
    "num1 = int(input(\"Enter first number: \"))\n",
    "num2 = int(input(\"Enter Second number: \"))\n",
    "# addition of the two numbers\n",
    "add = num1 + num2\n",
    "# subtraction of the second number from the first\n",
    "sub = num1 - num2\n",
    "# multiplication of the two numbers\n",
    "product = num1 * num2\n",
    "# Pdivision of the first number by the second\n",
    "div = num1 / num2\n",
    "# modulus operation to find the remainder of the first number divided by the second\n",
    "modulus = num1 % num2\n",
    "# exponentiation to raise the first number to the power of the second\n",
    "expo = num1 ** num2\n",
    "# floor division to get the largest integer less than or equal to the division result\n",
    "fdiv = num1 // num2\n",
    "# Print the results of the operations\n",
    "print(\"Addition:\", add)\n",
    "print(\"Subtraction:\", sub)\n",
    "print(\"Multiplication:\", product)\n",
    "print(\"Division:\", div)\n",
    "print(\"Modulus:\", modulus)\n",
    "print(\"Exponentiation:\", expo)\n",
    "print(\"Floor Division:\", fdiv) "
   ]
  },
  {
   "cell_type": "code",
   "execution_count": 5,
   "metadata": {},
   "outputs": [
    {
     "name": "stdout",
     "output_type": "stream",
     "text": [
      "The first number is equal to the second number.\n"
     ]
    }
   ],
   "source": [
    "# QUESTION NUMBER 2\n",
    "\n",
    "\n",
    "num1 =(input(\"Enter the first number: \"))\n",
    "num2 =(input(\"Enter the second number: \"))\n",
    "# Check if the first number is greater than the second\n",
    "if num1 > num2:\n",
    "    print(\"The first number is greater than the second number.\")\n",
    "# Check if the first number is equal to the second\n",
    "elif num1 == num2:\n",
    "    print(\"The first number is equal to the second number.\")\n",
    "# Check if the first number is less than or equal to the second\n",
    "else:\n",
    "    print(\"The first number is less than or equal to the second number.\")"
   ]
  },
  {
   "cell_type": "code",
   "execution_count": null,
   "metadata": {},
   "outputs": [],
   "source": [
    "# Question number 3\n",
    "# # Step 1: Take three boolean values as input from the user\n",
    "a= bool(input(\"Enter the first boolean value :\"))\n",
    "b= bool(input(\"Enter the second boolean value:\"))\n",
    "c= bool(input(\"Enter the third boolean value :\"))\n",
    "And= a and b and c\n",
    "OR= a or b or c\n",
    "Not_a = not a\n",
    "Not_b= not b\n",
    "Not_c= not c\n",
    "# Step 3: Print the results\n",
    "print(\"\\nResults of Logical Operations:\")\n",
    "print(f\"AND combination of all values: {And}\")\n",
    "print(f\"OR combination of all values: {OR}\")\n",
    "print(f\"NOT of the first value: {Not_a}\")\n",
    "print(f\"NOT of the first value: {Not_b}\")\n",
    "print(f\"NOT of the first value: {Not_c}\")"
   ]
  },
  {
   "cell_type": "code",
   "execution_count": 13,
   "metadata": {},
   "outputs": [
    {
     "name": "stdout",
     "output_type": "stream",
     "text": [
      "The length of the string: 7\n",
      "The first and last character: A And k\n",
      "The string in reverse order: kehsibA\n",
      "The string in uppercase ABISHEK\n",
      "The string in Lowercase abishek\n"
     ]
    }
   ],
   "source": [
    "# Question number 4:\n",
    "\n",
    "string = input(\"enter a string\")\n",
    "# Print the length of the string\n",
    "print(\"The length of the string:\", len(string))\n",
    "# Print the first and last character of the string\n",
    "print(\"The first and last character:\", string[0], \"And\", string[-1])\n",
    "# Print the string in reverse order\n",
    "print(\"The string in reverse order:\", string[::-1])\n",
    "# Print the string in uppercase\n",
    "print(\"The string in uppercase:\", string.upper())\n",
    "# Print the string in lowercase\n",
    "print(\"The string in lowercase:\", string.lower())"
   ]
  },
  {
   "cell_type": "code",
   "execution_count": 14,
   "metadata": {},
   "outputs": [
    {
     "name": "stdout",
     "output_type": "stream",
     "text": [
      "Hello  abishek , you are 21 years old\n"
     ]
    }
   ],
   "source": [
    "# Question number 5\n",
    "name = input(\"Enter the name: \")\n",
    "# Prompt the user to enter their age and convert it to an integer\n",
    "age = int(input(\"Enter the age: \"))\n",
    "# Print a greeting message\n",
    "print(\"Hello\", name, \",\", \"you are\", age, \"years old.\")"
   ]
  },
  {
   "cell_type": "code",
   "execution_count": 3,
   "metadata": {},
   "outputs": [
    {
     "name": "stdout",
     "output_type": "stream",
     "text": [
      "The word ',hi' exists in the sentence at index 0.\n"
     ]
    }
   ],
   "source": [
    "# Question number 6\n",
    "a=input(\"enter a sentence\")\n",
    "# Ask the user for a word to search in the sentence\n",
    "word = input(\"Enter a word to search for: \")\n",
    "# Check if the word exists in the sentence\n",
    "place = a.find(word)  # Use find() to get the index of the word\n",
    "# Output the result\n",
    "if word in a:\n",
    "    print(f\"The word ',{word}' exists in the sentence at index {place}.\")\n",
    "else:\n",
    "    print(f\"The word '{word}' does not exist in the sentence.\")\n"
   ]
  },
  {
   "cell_type": "code",
   "execution_count": 1,
   "metadata": {},
   "outputs": [
    {
     "name": "stdout",
     "output_type": "stream",
     "text": [
      "\n",
      "Results:\n",
      "The sum of all numbers: 15\n",
      "The largest number: 5\n",
      "The smallest number: 1\n"
     ]
    }
   ],
   "source": [
    "# Question number 7\n",
    "\n",
    "numbers = []\n",
    "for i in range(5):\n",
    "    num = int(input(f\"Enter number {i+1}: \"))\n",
    "    numbers.append(num)\n",
    "# Calculate the sum of all the numbers in the list\n",
    "total_sum = sum(numbers)  \n",
    "largest_number = max(numbers)  # Find the maximum value in the list\n",
    "smallest_number = min(numbers)  # Find the minimum value in the list\n",
    "\n",
    "# Display the results\n",
    "print(\"\\nResults:\")\n",
    "print(f\"The sum of all numbers: {total_sum}\")\n",
    "print(f\"The largest number: {largest_number}\")\n",
    "print(f\"The smallest number: {smallest_number}\")\n"
   ]
  },
  {
   "cell_type": "code",
   "execution_count": 4,
   "metadata": {},
   "outputs": [
    {
     "name": "stdout",
     "output_type": "stream",
     "text": [
      "Updated list of favorite fruits: ['Apple', 'Mango', 'Orange', 'Grapes', 'Pineapple']\n"
     ]
    }
   ],
   "source": [
    "# Question number 8\n",
    "favorite_fruits = ["Apple", "Banana", "Mango", "Orange", "Grapes"]"
    "fruit.append(\"Pineapple\")\n",
    "# Remove the second fruit from the list \n",
    "fruits.pop(1)\n",
    "print(\"Updated list of favorite fruits:\", fruits)\n"
   ]
  },
  {
   "cell_type": "code",
   "execution_count": 7,
   "metadata": {},
   "outputs": [
    {
     "name": "stdout",
     "output_type": "stream",
     "text": [
      "Sorted Lists:\n",
      "Ascending order: [1, 2, 3, 4, 5]\n",
      "Descending order: [1, 2, 3, 4, 5]\n"
     ]
    }
   ],
   "source": [
    "# Question number 9\n",
    "numbers = []\n",
    "for i in range(5):\n",
    "    # Take input from the user, convert it to an integer, and add it to the list\n",
    "    num = int(input(f\"Enter number {i+1}: \"))\n",
    "    numbers.append(num)\n",
    "# Sort the list in ascending order\n",
    "ascending_order = sorted(numbers)\n",
    "# Sort the list in descending order\n",
    "descending_order = sorted(numbers, reverse=True)\n",
    "print(\"Sorted Lists:\")\n",
    "print(f\"Ascending order: {ascending_order}\")\n",
    "print(f\"Descending order: {descending_order}\")\n"
   ]
  },
  {
   "cell_type": "code",
   "execution_count": null,
   "metadata": {},
   "outputs": [],
   "source": [
    "#question number 10\n",
    "numbers = [1, 2, 3, 4, 5, 6, 7, 8, 9, 10]\n",
    "first_five = numbers[:5]\n",
    "print(\"First 5 elements:\", first_five)\n",
    "last_five = numbers[-5:]\n",
    "print(\"Last 5 elements:\", last_five)\n",
    "middle = numbers[2:8]\n",
    "print(\"Elements from index 2 to index 7:\", middle)\n"
   ]
  },
  {
   "cell_type": "code",
   "execution_count": 17,
   "metadata": {},
   "outputs": [
    {
     "name": "stdout",
     "output_type": "stream",
     "text": [
      "\n",
      "Results of Logical Operations:\n",
      "AND combination of all values: True\n",
      "OR combination of all values: True\n",
      "NOT of the first value: False\n",
      "NOT of the first value: False\n",
      "NOT of the first value: False\n"
     ]
    }
   ],
   "source": [
    " "
   ]
  },
  {
   "cell_type": "code",
   "execution_count": null,
   "metadata": {},
   "outputs": [],
   "source": []
  }
 ],
 "metadata": {
  "kernelspec": {
   "display_name": "base",
   "language": "python",
   "name": "python3"
  },
  "language_info": {
   "codemirror_mode": {
    "name": "ipython",
    "version": 3
   },
   "file_extension": ".py",
   "mimetype": "text/x-python",
   "name": "python",
   "nbconvert_exporter": "python",
   "pygments_lexer": "ipython3",
   "version": "3.12.4"
  }
 },
 "nbformat": 4,
 "nbformat_minor": 2
}
